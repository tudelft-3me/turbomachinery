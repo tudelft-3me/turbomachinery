{
 "cells": [
  {
   "cell_type": "markdown",
   "metadata": {},
   "source": [
    "# Assignment 2: 3D compressor stage design\n",
    "\n",
    "### Design the NASA rotor 67 compressor stage using the \"free vortex design\"\n",
    "\n",
    "The NASA rotor 67 is a well-known validation test case for turbomachinery CFD codes. See for example: \n",
    " * https://ntrs.nasa.gov/api/citations/20050196726/downloads/20050196726.pdf \n",
    " * https://how4.cenaero.be/content/c2-nasa-rotor-67\n",
    " \n",
    "The following data is given:\n",
    "    \n",
    " * Mass flow rate: $\\dot m = 35$ \n",
    " * Rotational speed: rpm = 16000\n",
    " * Rotor blade tip speed: $U_{tip} = 430$ m/s\n",
    " * **Total to total** pressure ratio: 1.6\n",
    " * Hub to tip ratio: $r_{hub}/r_{tip} = 0.375$\n",
    " * Static inlet conditions: \n",
    "     * Pressure $P = 0.8$ bar\n",
    "     * Temperature $T = 3$ °C\n",
    "\n",
    "For the working fluid, use the assumption of a calorically perfect gas (constant specific heats) for air with $R_{gas} = 287$ J/kg/K and $\\gamma=1.4$. \n",
    "\n",
    "Furthermore, for the calculations below, assume:\n",
    " * a purely axial inflow velocity at the stage\n",
    " * a constant axial velocity across the whole stage\n",
    " * a purely axial velocity at the outlet of the stage\n",
    " * no losses. \n",
    "\n",
    "### Tasks: \n",
    " \n",
    "First, design the compressor stage at mid-span and calculate the inflow area, mid span radius, axial velocity, velocity angles, flow coefficient, loading factor, degree of reaction, etc. Note, the total to total pressure ratio is given, and the Euler equation relates the total enthaly change with the velocity triangles. \n",
    "\n",
    "Second, perform a 3D design of the compressor stage assuming a free vortex design. Show how the design parameters change along the span (radius of the stage). Also calculate the relative Mach number ($M=w/a$) at the inlet of the stage, $a$ is the speed of sound. \n",
    "\n",
    "Bonus: compare your design with the original NASA rotor 67 rotor. For example, use the first publication given above as a reference (compare the relative inlet Mach number or other quantities). \n",
    "\n",
    "Deliver a report of approximately 4 pages. Group of 2 students. **Do not share your results with the other groups.**\n"
   ]
  },
  {
   "cell_type": "code",
   "execution_count": null,
   "metadata": {},
   "outputs": [],
   "source": []
  },
  {
   "cell_type": "code",
   "execution_count": null,
   "metadata": {},
   "outputs": [],
   "source": []
  },
  {
   "cell_type": "code",
   "execution_count": null,
   "metadata": {},
   "outputs": [],
   "source": []
  },
  {
   "cell_type": "markdown",
   "metadata": {},
   "source": [
    "# The code below was introduced at the lecture and can be used for the assignment. Note, it is coded for a turbine stage."
   ]
  },
  {
   "cell_type": "code",
   "execution_count": 33,
   "metadata": {},
   "outputs": [],
   "source": [
    "def turbine_blades(phi, psi, R):\n",
    "    \n",
    "    c_x = 1.0\n",
    "    U = c_x/phi\n",
    "    \n",
    "    A = np.array([[1, 1], [1, -1]])\n",
    "    b = np.array([(1-2*R)/phi, (psi+1)/phi])\n",
    "    x = np.linalg.solve(A, b)\n",
    "    \n",
    "    alfa2 = np.arctan(x[0])*(180/np.pi)\n",
    "    beta2 = np.arctan(x[0] - U)*(180/np.pi)\n",
    "    \n",
    "    alfa3 = np.arctan(x[1] + U)*(180/np.pi)\n",
    "    beta3 = np.arctan(x[1])*(180/np.pi)\n",
    "    \n",
    "    \n",
    "    # Bezier 2nd order for stator and rotor blades\n",
    "    t = np.linspace(0, 1, 21)\n",
    "    F = np.column_stack(((1-t)**2, 2*t*(1-t),  t**2))\n",
    "    \n",
    "    # Profile thickness\n",
    "    prof_th = 1.\n",
    "    \n",
    "    # Camber line stator\n",
    "    stat = np.array([[U + x[1], 0.], [0, -1], [-x[0], -2.]])\n",
    "    bez_stator = F.dot(stat)     \n",
    "    \n",
    "    # Stator profile pressure side (PS)\n",
    "    statorPS = np.array([[U + x[1], 0.], [-prof_th/2, -1.], [-x[0], -2.]])\n",
    "    bez_statorPS = F.dot(statorPS)\n",
    "    \n",
    "    # Stator profile suction side (SS)\n",
    "    statorSS = np.array([[U + x[1], 0.], [prof_th/2., -1.], [-x[0], -2.]])\n",
    "    bez_statorSS = F.dot(statorSS)\n",
    "    \n",
    "    stator = np.vstack((bez_statorSS, bez_statorPS[::-1]))\n",
    "    \n",
    "    # Camber line rotor\n",
    "    rot = np.array([[0., -3.], [-x[0] + U , -4.], [-x[0] + U - x[1], -5.]])\n",
    "    bez_rotor = F.dot(rot)     \n",
    "    \n",
    "    # Rotor profile pressure side (PS)\n",
    "    rotorPS = np.array([[0., -3.], [-x[0] + U - prof_th/2., -4.], [-x[0] + U - x[1], -5.]])\n",
    "    bez_rotorPS = F.dot(rotorPS)\n",
    "    \n",
    "    # Rotor profile suction side (SS)\n",
    "    rotorSS = np.array([[0., -3.], [-x[0] + U + prof_th/2., -4.], [-x[0] + U - x[1], -5.]])\n",
    "    bez_rotorSS = F.dot(rotorSS)\n",
    "    \n",
    "    rotor = np.vstack((bez_rotorSS, bez_rotorPS[::-1]))\n",
    "    \n",
    "    \n",
    "    return stator, rotor, x, U"
   ]
  },
  {
   "cell_type": "code",
   "execution_count": 34,
   "metadata": {},
   "outputs": [
    {
     "data": {
      "application/vnd.jupyter.widget-view+json": {
       "model_id": "bc918456287646859eb5c60ec01451f2",
       "version_major": 2,
       "version_minor": 0
      },
      "text/plain": [
       "VBox(children=(HBox(children=(FloatSlider(value=0.4, description='$\\\\phi$', max=2.0, step=0.01), FloatSlider(v…"
      ]
     },
     "metadata": {},
     "output_type": "display_data"
    },
    {
     "data": {
      "application/vnd.jupyter.widget-view+json": {
       "model_id": "12bda3bc3b184f1f82459bd4c1cc41f9",
       "version_major": 2,
       "version_minor": 0
      },
      "text/plain": [
       "Output()"
      ]
     },
     "metadata": {},
     "output_type": "display_data"
    }
   ],
   "source": [
    "import ipywidgets as widgets\n",
    "from ipywidgets import interact, interactive, interact_manual, interactive_output, Label\n",
    "import numpy as np\n",
    "from matplotlib import pyplot as plt\n",
    "\n",
    "# Define initial parameters\n",
    "init_phi = 0.4 # Flow coefficient\n",
    "init_psi = 1 # Loading factor\n",
    "init_R = 0.5 # Degree of reaction\n",
    "init_pitch_stat = 3\n",
    "init_pitch_rot = 3\n",
    "\n",
    "# Define plot parameters\n",
    "scale_fig1 = 1.5  \n",
    "fontsize = 16\n",
    "\n",
    "def turbine_gui(phi, psi, R, pitch_stat, pitch_rot, show_velocity=True): \n",
    "    \n",
    "    \n",
    "    offset_y = 0 if show_velocity == True else 0.25\n",
    "\n",
    "    # Initialize figure \n",
    "    fig1, ax1 = plt.subplots(figsize=(scale_fig1*6.4, scale_fig1*4.8))\n",
    "\n",
    "    # Set parameters left subplot\n",
    "    ax1.set_xlabel('x', fontsize=fontsize)\n",
    "    ax1.set_ylabel('y', fontsize=fontsize)\n",
    "    ax1.set_xlim(-10, 10)\n",
    "    ax1.set_ylim(-7, 2)\n",
    "    \n",
    "    [stator, rotor, x, U] = turbine_blades(phi, psi, R)\n",
    "    \n",
    "    for i in range(-10, 11):\n",
    "        \n",
    "        ax1.plot(stator[:,0] + i*pitch_stat, stator[:,1] + 0.25 - offset_y, lw=3, c='r')\n",
    "        ax1.plot(rotor[:,0] + i*pitch_rot, rotor[:,1] - 0.25 + offset_y, lw=3, c='b')\n",
    "    \n",
    "    if show_velocity == True:\n",
    "        \n",
    "        offset = 0\n",
    "        head_length=0.3\n",
    "        head_width=0.3\n",
    "        # Draw velocity profiles\n",
    "        # Stator inlet\n",
    "        ax1.arrow(offset, 1.5, offset-x[1]-U, -1, color='r', head_length=head_length, head_width=head_width, length_includes_head=True)  # C1\n",
    "\n",
    "        # Stator outlet / rotor inlet\n",
    "        ax1.arrow(offset, -2, -x[0], -1, color='r', head_length=head_length, head_width=head_width, length_includes_head=True, label='absolute velocity')  # C2\n",
    "        ax1.arrow(offset, -2, -x[0]+U, -1, color='b', head_length=head_length, head_width=head_width, length_includes_head=True, label='relative velocity')  # W2\n",
    "        ax1.arrow(offset-x[0]+U, -3, -U, 0, color='g', head_length=head_length, head_width=head_width, length_includes_head=True, label='rotational velocity')  # U\n",
    "\n",
    "        # Rotor outlet\n",
    "        ax1.arrow(offset, -5.5, -x[1]-U, -1, color='r', head_length=head_length, head_width=head_width, length_includes_head=True)  # C3\n",
    "        ax1.arrow(offset, -5.5, -x[1], -1, color='b', head_length=head_length, head_width=head_width, length_includes_head=True)  # W3\n",
    "        ax1.arrow(offset-x[1], -6.5, -U, 0, color='g', head_length=head_length, head_width=head_width, length_includes_head=True)  # U\n",
    "        \n",
    "        ax1.legend()\n",
    "        \n",
    "    # Update plot\n",
    "    \n",
    "    plt.show()\n",
    "\n",
    "# Define interactive widgets\n",
    "a = widgets.FloatSlider(value=init_phi, min=0, max=2, step=0.01, description=r'$\\phi$')\n",
    "b = widgets.FloatSlider(value=init_psi, min=0, max=5, step=0.01, description=r'$\\psi$')\n",
    "c = widgets.FloatSlider(value=init_R, min=0, max=2, step=0.01, description=r'$R$')\n",
    "d = widgets.FloatSlider(value=init_pitch_stat, min=0, max=10, step=0.01, description='Pitch stator')\n",
    "e = widgets.FloatSlider(value=init_pitch_rot, min=0, max=10, step=0.01, description='Pitch rotor')\n",
    "f = widgets.Checkbox(True,  description='Show velocity triangles')\n",
    "\n",
    "    \n",
    "# Layout of widgets\n",
    "ui0 = widgets.HBox([a, d])\n",
    "ui1 = widgets.HBox([b, e])\n",
    "ui2 = widgets.HBox([c, f])\n",
    "\n",
    "ui = widgets.VBox([ui0, ui1, ui2])\n",
    "\n",
    "# Activate interactivity with plot!\n",
    "out = widgets.interactive_output(turbine_gui, {'phi': a, 'psi': b, 'R': c, 'pitch_stat': d, 'pitch_rot': e, 'show_velocity': f})\n",
    "display(ui, out)\n"
   ]
  },
  {
   "cell_type": "code",
   "execution_count": null,
   "metadata": {},
   "outputs": [],
   "source": []
  },
  {
   "cell_type": "code",
   "execution_count": null,
   "metadata": {},
   "outputs": [],
   "source": []
  },
  {
   "cell_type": "code",
   "execution_count": null,
   "metadata": {},
   "outputs": [],
   "source": []
  },
  {
   "cell_type": "code",
   "execution_count": null,
   "metadata": {},
   "outputs": [],
   "source": []
  },
  {
   "cell_type": "code",
   "execution_count": null,
   "metadata": {},
   "outputs": [],
   "source": []
  },
  {
   "cell_type": "code",
   "execution_count": null,
   "metadata": {},
   "outputs": [],
   "source": []
  },
  {
   "cell_type": "code",
   "execution_count": null,
   "metadata": {},
   "outputs": [],
   "source": []
  },
  {
   "cell_type": "code",
   "execution_count": null,
   "metadata": {},
   "outputs": [],
   "source": []
  },
  {
   "cell_type": "code",
   "execution_count": null,
   "metadata": {},
   "outputs": [],
   "source": []
  }
 ],
 "metadata": {
  "kernelspec": {
   "display_name": "Python 3 (ipykernel)",
   "language": "python",
   "name": "python3"
  },
  "language_info": {
   "codemirror_mode": {
    "name": "ipython",
    "version": 3
   },
   "file_extension": ".py",
   "mimetype": "text/x-python",
   "name": "python",
   "nbconvert_exporter": "python",
   "pygments_lexer": "ipython3",
   "version": "3.9.7"
  }
 },
 "nbformat": 4,
 "nbformat_minor": 4
}
